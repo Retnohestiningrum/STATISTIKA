{
 "cells": [
  {
   "cell_type": "markdown",
   "id": "fe895ef7",
   "metadata": {},
   "source": [
    "## NAMA : RETNO HESTININGRUM NIM : 210411100053 KELAS : METODE STATISTIKA 2D"
   ]
  },
  {
   "cell_type": "markdown",
   "id": "efa0a0ab",
   "metadata": {},
   "source": [
    "### Estimasi Rata-Rata, Standard Deviasi, Skewness, dan Kurtosis"
   ]
  },
  {
   "cell_type": "markdown",
   "id": "13356436",
   "metadata": {},
   "source": [
    "### Estimasi Rata-Rata"
   ]
  },
  {
   "cell_type": "markdown",
   "id": "b46e4e15",
   "metadata": {},
   "source": [
    "Estimasi rata-rata (μ) merupakan pendugaan mengenai data parameter μ yang sebenarnya berdasarkan informasi rata-rata sampel (Mochamad, 2012, p. 106)\n",
    "\n",
    "• Ada 2 jenis :\n",
    "\n",
    "1. Kasus sampel besar (n>30) dan Standard Deviasi σ diketahui\n",
    "\n",
    "▫ Untuk Populasi tidak terbatas (infinite population)\n",
    "\n",
    "▫ Untuk Populasi terbatas (finite population)\n",
    "\n",
    "2. Kasus sampel kecil (n<30)  dan Standard Deviasi σ tidak diketahui\n",
    "\n",
    "\n",
    "▫ Untuk Populasi tidak terbatas (infinite population)\n",
    "\n",
    "▫ Untuk Populasi terbatas (finite population)\n",
    "\n",
    "Interval estimasi ini adalah selompok nilai statistik sampel dalam interval tertentu yang dapat digunakan untuk melakukan estimasi terhadap parameter populasi dengan harapan bahwa nilai parameter populasi terletak didalam intervaltersebut (Budiarto, 2001, p. 162).\n",
    "\n",
    "##### Rumus :\n",
    "\n",
    "Rata-rata (xbar)-t(a/2) x s/√𝑛 < 𝜇 < Rata-rata (xbar) + t(a/2) x s/√𝑛\n",
    "\n",
    "xbar = rata-rata s = standard deviasi n = jumlah sampel"
   ]
  },
  {
   "cell_type": "code",
   "execution_count": 19,
   "id": "118fb58c",
   "metadata": {},
   "outputs": [
    {
     "name": "stdout",
     "output_type": "stream",
     "text": [
      "jadi rata rata waktu nilai statistik yang sesungguhnya dengan tingkat kepercayaan 99% berkisar antara 46.187001411758054 <μ< 61.61299858824194\n"
     ]
    }
   ],
   "source": [
    "#2a\n",
    "#untuk menghitung nomor 2a harus menyelesaikan soal 2b terlebih dahulu untuk mendapat sdeviasi\n",
    "#karena jumlah data kurang dari 30 maka menggunakan estimasi = xbar(+-) (t/(alpha/2)) dikali sdeviasi dibagi akar dari n\n",
    "import math\n",
    "#diketahui\n",
    "n = 10\n",
    "v = n-1\n",
    "xbar = 53.9\n",
    "sdeviasi =  7.504813270310076\n",
    "#nilai tingkat kepercayaan 99% = t\n",
    "# didapat t dari (t/(alpha/2))\n",
    "t = 3.250\n",
    "#estimasi rata rata nilai yang lebih kecil dari miu\n",
    "estimasi1 = xbar - t*(sdeviasi/(math.sqrt(n)))\n",
    "#estimasi rata rata nilai yang lebih besar dari miu\n",
    "estimasi2 = xbar + t*(sdeviasi/(math.sqrt(n)))\n",
    "print('jadi rata rata waktu nilai statistik yang sesungguhnya dengan tingkat kepercayaan 99% berkisar antara',estimasi1,'<μ<',estimasi2)"
   ]
  },
  {
   "cell_type": "markdown",
   "id": "4bd7a0bd",
   "metadata": {},
   "source": [
    "### Standar deviasi"
   ]
  },
  {
   "cell_type": "markdown",
   "id": "c11b8a93",
   "metadata": {},
   "source": [
    "Standar deviasi atau yang biasa disebut simpangan baku ini disimbolkan dengan alfabet Yunani sigma σ atau huruf latin S. Dalam pembentukan rumus standar deviasi didasarkan pada rumus variansi. Sebab, standar deviasi adalah akar kuadrat dari variansi. Dalam mencari variansi, selisih dari tiap elemen data dengan mean data dihitung. Dalam rumus ini, variansi dibagi menjadi dua, yaitu variansi sampel (S2) dan variansi populer (σ2). Hal ini juga berlaku dalam standar deviasi, yang merupakan akar kuadrat variansi. Sehingga, standar deviasi juga turut dibedakan menjadi dua, standar deviasi sampel (S) dan standar deviasi populasi (o).\n",
    "\n",
    "Semakin rendah nilai standar deviasi maka semakin mendekati rata-rata, sedangkan jika nilai standar deviasi semakin tinggi maka semakin jauh atau lebar rentang variasi datanya. Oleh karena itu dapat dikatakan bahwa standar deviasi merupakan besarnya perbedaan dari nilai sampel terhadap rata-rata. Standar deviasi menyatakan keragaman sampel dan dapat digunakan untuk mendapatkan data dari suatu populasi."
   ]
  },
  {
   "cell_type": "code",
   "execution_count": 20,
   "id": "99207be5",
   "metadata": {},
   "outputs": [
    {
     "name": "stdout",
     "output_type": "stream",
     "text": [
      "standar deiviasinya adalah 7.504813270310076\n"
     ]
    }
   ],
   "source": [
    "#2b\n",
    "import statistics\n",
    "data = [50,58,43,64,47,50,56,47,60,64]\n",
    "sdeviasi = statistics.stdev(data)\n",
    "rata=statistics.mean(data)\n",
    "print('standar deiviasinya adalah',sdeviasi)"
   ]
  },
  {
   "cell_type": "markdown",
   "id": "1bb91d76",
   "metadata": {},
   "source": [
    "### Skewness (Kemiringan)"
   ]
  },
  {
   "cell_type": "markdown",
   "id": "a0f0dce1",
   "metadata": {},
   "source": [
    "Skewness adalah ukuran ketidaksimetrisan dalam distribusi nilai. Skewness dapat bernilai positif, negatif, dan nol.\n",
    "\n",
    "Skewness yang bernilai positif berarti ekor distribusi berada di sebelah kanan nilai terbanyak. Berarti, sebagian besar distribusi berada di nilai rendah. Skewness yang bernilai negatif berarti ekor distribusi berada di sebelah kiri, menunjukkan bahwa sebagian besar nilai berada di sisi kanan kurva. Sementara skewness bernilai nol berarti nilai terdistribusi secara simetris, dengan jarak antara ekor distribusi sebelah kanan dan kiri sama besar."
   ]
  },
  {
   "cell_type": "markdown",
   "id": "8b1666d5",
   "metadata": {},
   "source": [
    "### kurtosis (Keruncingan)"
   ]
  },
  {
   "cell_type": "markdown",
   "id": "3ee73f9d",
   "metadata": {},
   "source": [
    "Keruncingan disebut juga ketinggian kurva. Keruncingan atau kurtosis adalah tingkat kepuncakan dari sebuah distribusi yang biasanya diambil secara relatif terhadap suatu distribusi normal.\n",
    "\n",
    "Kurtosis adalah indikator untuk menunjukkan derajat keruncingan (tailedness). Semakin besar nilai kurtosis maka kurva semakin runcing.Tingkat keruncingan dari suatu kurva (kurtosis) merupakan besaran untuk menentukan jenis kurva (runcing, normal, atau datar).\n",
    "\n",
    "Nilai referensi kurtosis adalah 3. Jika nilai kurtosis lebih besar dari 3, maka kurva distribusi disebut leptokurtik. Sementara jika lebih rendah dari 3, maka disebut platikurtik. Sedangkan nilai kurtosis sama dengan 3 bermakna kurva distribusi normal atau mesokurtik atau mesokurtotik."
   ]
  },
  {
   "cell_type": "markdown",
   "id": "8ccccdba",
   "metadata": {},
   "source": [
    "###### Skewness dan kurtosis dapat menunjukkan kondisi pembagian atau distribusi data. Kondisi ideal adalah saat data terdistribusi normal, yakni saat skewness bernilai 0 dan kurtosis bernilai 3. Semakin jauh dari kondisi ideal berarti data tersebar semakin tidak ideal atau tidak merata."
   ]
  },
  {
   "cell_type": "code",
   "execution_count": 21,
   "id": "0d84923c",
   "metadata": {},
   "outputs": [
    {
     "name": "stdout",
     "output_type": "stream",
     "text": [
      " nilai skewnessnya adalah :  0.08176290963037283\n",
      " nilai kurtosisnya adalah :  -1.380579722068635\n"
     ]
    }
   ],
   "source": [
    "#2c\n",
    "from scipy.stats import skew\n",
    "from scipy.stats import kurtosis\n",
    "\n",
    "data = [50,58,43,64,47,50,56,47,60,64]\n",
    "\n",
    "print(\" nilai skewnessnya adalah : \",skew(data))\n",
    "print(\" nilai kurtosisnya adalah : \",kurtosis(data))"
   ]
  },
  {
   "cell_type": "markdown",
   "id": "60c781ab",
   "metadata": {},
   "source": [
    "### KNN Regresi (K- Nearest Neighbor)"
   ]
  },
  {
   "cell_type": "markdown",
   "id": "7e345575",
   "metadata": {},
   "source": [
    "Algoritma KNN merupakan metode yang menggunakan algoritma supervised. Algoritma supervised learning tujuannya untuk mendapatkan pola baru sedangkan unsupervised learning tujuannya untuk mendapatkan pola dalam sebuah data. yaitu untuk mengelompokkan objek baru berdasarkan atribut dan sample-sample (Training Sample).\n",
    "\n",
    "KNN Regresi, merupakan algoritma yang memberikan pengenalan ke K-terdekat regresi tetangga yang dasar pendekatan Unsupervised K Nearest Neighbor atau UNN, yang mana dalam regresi adalah untuk memprediksi nilai output. Ide KNN didasarkan pada asumsi lokalitas di ruang data. Dalam lingkungan lokal pola x diharapkan memiliki nilai output yang sama y (atau label kelas) untuk f(x). Akibatnya, untuk x′ diketahui label harus mirip dengan label dari pola terdekat, yang dimodelkan dengan rata-rata nilai output dari sampel terdekat K. \n",
    "\n",
    "Kelebihan Algoritma K-Nearest Neighbor Lebih efektif pada data latihnya besar Mudah dipahami dan di Implementasikan Non-linear Karena algoritma K-NN bersifat non-parametik. Menghasilkan data yang lebih akurat.\n",
    "\n",
    "Kekurangan Algoritma K-Nearest Neighbor Harus menentukan parameter K (jumlah tetangga terdekat) Sensitif terhadap data outlier Tingginya nilai komputasi Sensitif terhadap perbedaan rentang variabel dan dimensionalitas Sensitif terhadap dimensionalitas yang tinggi.\n",
    "\n",
    "###### Tahapan metode k-Nearest Neighbor:\n",
    "\n",
    "1. Menentukan parameter k (jumlah tetangga paling dekat).\n",
    "2. Menghitung kuadrat jarak eucliden objek terhadap data sample (data training) yang diberikan.\n",
    "3. Mengurutkan objek-objek tersebut (hasil dari tahapan no. 2) kedalam kelompok dengan cara ascending (berurutan dari nilai tinggi ke nilai rendah).\n",
    "4. Mengumpulkan kategori Y (klasifikasi nearest neighbor) berdasarkan dari nilai k dengan menggunakan kategori mayoritas,maka dapat diprediksikan nilai query instance yang telah dihitung."
   ]
  },
  {
   "cell_type": "code",
   "execution_count": 22,
   "id": "8f19a676",
   "metadata": {},
   "outputs": [
    {
     "data": {
      "text/plain": [
       "52"
      ]
     },
     "execution_count": 22,
     "metadata": {},
     "output_type": "execute_result"
    }
   ],
   "source": [
    "#dari data soal nomor 3 diadapat pola yang bisa menentukan nilai y\n",
    "#dimana x1 ditambah 2 kali x2 menghasilkan nilai y,sehinggan berikut bentuk programnya\n",
    "def knn (x1,x2):\n",
    "  y=x1+2*(x2)\n",
    "  return y\n",
    "# maka nilai y nya adalah berikut:\n",
    "knn(14,19)"
   ]
  },
  {
   "cell_type": "markdown",
   "id": "b8d68d3f",
   "metadata": {},
   "source": [
    "### Selang Kepercayaan"
   ]
  },
  {
   "cell_type": "markdown",
   "id": "b8b49bc6",
   "metadata": {},
   "source": [
    "Selang kepercayaan (confidence interval) merupakan metode digunakan untuk memperkirakan parameter populasi berdasarkan sampel menggunakan metode statistik tertentu dalam sebuah rentang tertentu. Tujuan menggunakan interval kepercayaan adalah memiliki margin kesalahan sekecil mungkin. Semakin sempit interval, semakin akurat nilai statistik yang kita gunakan.Seperti yang kita tahu, margin of error bentuk toleransi yang mungkin terjadi dalam pengujian statistik. Pada dasarnya, sampel diambil secara acak untuk menghasilkan nilai yang dapat mewakili parameter. Tapi, pengukurannya akan berbeda jika Anda menggunakan sampel lain yang diambil secara acak. Hal ini akan menyebabkan perhitungan yang berbeda. Oleh karena itu, selang kepercayaan adalah solusi untuk memastikan bahwa statistik yang kita hasilkan akurat dalam rentang nilai tertentu (yang merupakan margin kesalahan) dan dapat menggambarkan populasi dengan baik."
   ]
  },
  {
   "cell_type": "code",
   "execution_count": 27,
   "id": "8db37750",
   "metadata": {},
   "outputs": [
    {
     "name": "stdout",
     "output_type": "stream",
     "text": [
      "jadi diperoleh selang kepercayaannya adalah 2.5020000000000002 <μ< 2.698\n"
     ]
    }
   ],
   "source": [
    "#4\n",
    "import math\n",
    "#diketahui\n",
    "n = 36\n",
    "xbar = 2.6\n",
    "sdeviasi = 0.3\n",
    "\n",
    "#nilai tingkat kepercayaan 95% = z\n",
    "\n",
    "z = 1.96\n",
    "#rata rata ip yang lebih kecil dari miu\n",
    "rataRataIp1 = xbar - z*(sdeviasi/(math.sqrt(n)))\n",
    "##rata rata ip yang lebih besar dari miu\n",
    "rataRataIp2 = xbar + z*(sdeviasi/(math.sqrt(n)))\n",
    "print('jadi diperoleh selang kepercayaannya adalah',rataRataIp1,'<μ<',rataRataIp2)"
   ]
  }
 ],
 "metadata": {
  "kernelspec": {
   "display_name": "Python 3 (ipykernel)",
   "language": "python",
   "name": "python3"
  },
  "language_info": {
   "codemirror_mode": {
    "name": "ipython",
    "version": 3
   },
   "file_extension": ".py",
   "mimetype": "text/x-python",
   "name": "python",
   "nbconvert_exporter": "python",
   "pygments_lexer": "ipython3",
   "version": "3.9.7"
  }
 },
 "nbformat": 4,
 "nbformat_minor": 5
}
